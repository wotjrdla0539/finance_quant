{
 "cells": [
  {
   "cell_type": "code",
   "execution_count": 1,
   "id": "d2305338",
   "metadata": {},
   "outputs": [],
   "source": [
    "import pandas as pd\n",
    "import matplotlib.pyplot as plt"
   ]
  },
  {
   "cell_type": "code",
   "execution_count": 2,
   "id": "2ff81fdc",
   "metadata": {},
   "outputs": [],
   "source": [
    "def data_preprocess(raw) :\n",
    "    tmp_stk_list = raw.iloc[8].tolist()\n",
    "    tmp_stk_list[0] = 'Date'\n",
    "\n",
    "    data = raw.iloc[13:][::-1]\n",
    "    data.columns = tmp_stk_list\n",
    "    data.set_index('Date',inplace =True)\n",
    "    data = data.T.reset_index().drop_duplicates(['index'], keep='first').set_index('index').T\n",
    "    data.index = pd.to_datetime(data.index)\n",
    "    \n",
    "    #data = data[start:end]\n",
    "    #data = data.fillna(-1).astype(int).replace(-1, np.nan)\n",
    "    \n",
    "    return data"
   ]
  },
  {
   "cell_type": "code",
   "execution_count": 3,
   "id": "044f63cd",
   "metadata": {
    "scrolled": true
   },
   "outputs": [],
   "source": [
    "stg_ret = pd.read_excel('배당_수정.xlsx', sheet_name = '배당관련_수익률')\n",
    "stg_ret = stg_ret.set_index('Date')\n",
    "tran = pd.read_csv('거래대금.csv')\n",
    "div_ret = pd.read_csv('배당수익률.csv')\n",
    "market_cap = pd.read_csv('시가총액.csv')\n",
    "dps = pd.read_csv('컨센_DPS.csv')\n",
    "close = pd.read_csv('종가.csv')"
   ]
  },
  {
   "cell_type": "code",
   "execution_count": 5,
   "id": "521b3195",
   "metadata": {},
   "outputs": [],
   "source": [
    "tran = data_preprocess(tran)\n",
    "tran = tran.iloc[1:]\n",
    "div_ret = data_preprocess(div_ret)\n",
    "market_cap = data_preprocess(market_cap)\n",
    "close = data_preprocess(close)\n",
    "div_ret = div_ret.iloc[1:]"
   ]
  },
  {
   "cell_type": "code",
   "execution_count": 6,
   "id": "bbe5f6c0",
   "metadata": {},
   "outputs": [],
   "source": [
    "close = close.astype(float)\n",
    "div_ret = div_ret.astype(float)\n",
    "div_ret = div_ret * 0.01"
   ]
  },
  {
   "cell_type": "code",
   "execution_count": 7,
   "id": "14b3b268",
   "metadata": {},
   "outputs": [],
   "source": [
    "stk_list = dps.iloc[5:,1].tolist()\n",
    "\n",
    "tmp_dps = dps.iloc[5:,2:]\n",
    "tmp_dps = tmp_dps.T\n",
    "tmp_dps.columns = stk_list\n",
    "tmp_dps = tmp_dps.T.reset_index().drop_duplicates(['index'], keep='first').set_index('index').T\n",
    "tmp_dps.index = ['2021','2020','2019','2018','2017','2016','2015','2014','2013','2012','2011']\n",
    "tmp_dps = tmp_dps[::-1]\n",
    "dps = tmp_dps.copy()\n",
    "dps = dps.astype(float)"
   ]
  },
  {
   "cell_type": "code",
   "execution_count": 8,
   "id": "fdad69ab",
   "metadata": {},
   "outputs": [],
   "source": [
    "screen_date = ['2011-12-26','2012-12-24','2013-12-24','2014-12-24','2015-12-24',\n",
    "               '2016-12-26','2017-12-22','2018-12-24','2019-12-24','2020-12-24']"
   ]
  },
  {
   "cell_type": "code",
   "execution_count": 9,
   "id": "684688e6",
   "metadata": {},
   "outputs": [],
   "source": [
    "year = ['2011','2012','2013','2014','2015','2016','2017','2018','2019','2020']"
   ]
  },
  {
   "cell_type": "code",
   "execution_count": 10,
   "id": "e6685864",
   "metadata": {},
   "outputs": [],
   "source": [
    "screen_year_list = []"
   ]
  },
  {
   "cell_type": "code",
   "execution_count": 11,
   "id": "81c55e39",
   "metadata": {},
   "outputs": [],
   "source": [
    "close_year_list = []"
   ]
  },
  {
   "cell_type": "code",
   "execution_count": 12,
   "id": "0e141508",
   "metadata": {},
   "outputs": [],
   "source": [
    "for date in screen_date : \n",
    "    mc_screen = market_cap.loc[date][market_cap.loc[date].fillna(0).astype(float) > 300000].dropna().index\n",
    "    tr_screen = tran[mc_screen].loc[date][tran[mc_screen].loc[date].fillna(0).astype(float) > 5000000000].dropna().index\n",
    "    screen_year_list.append(tr_screen)\n",
    "    close_year_list.append(close.loc[date][tr_screen])"
   ]
  },
  {
   "cell_type": "code",
   "execution_count": 13,
   "id": "b6b7a2c9",
   "metadata": {},
   "outputs": [],
   "source": [
    "consen_div_year_list = []"
   ]
  },
  {
   "cell_type": "code",
   "execution_count": 14,
   "id": "e993263c",
   "metadata": {},
   "outputs": [
    {
     "name": "stdout",
     "output_type": "stream",
     "text": [
      "2011\n",
      "2012\n",
      "2013\n",
      "2014\n",
      "2015\n",
      "2016\n",
      "2017\n",
      "2018\n",
      "2019\n",
      "2020\n"
     ]
    }
   ],
   "source": [
    "for i, date in enumerate(year) :\n",
    "    print(date)\n",
    "    consen_div_year_list.append((dps[screen_year_list[i]].loc[date] / close_year_list[i]).dropna().sort_values()[::-1])"
   ]
  },
  {
   "cell_type": "code",
   "execution_count": 17,
   "id": "4c4b96bd",
   "metadata": {},
   "outputs": [],
   "source": [
    "def backtest(stg_ret_, consen_div_year_list_,div_ret_, num, stk_num) :\n",
    "    str_ret_ = stg_ret_.iloc[num][consen_div_year_list_[num][:stk_num].index].dropna()\n",
    "    real_div_ret_ = div_ret_.iloc[num][stg_ret_.iloc[num][consen_div_year_list_[num][:stk_num].index].dropna().index]\n",
    "    return str_ret_, real_div_ret_"
   ]
  },
  {
   "cell_type": "code",
   "execution_count": 18,
   "id": "367326fd",
   "metadata": {},
   "outputs": [],
   "source": [
    "# 증권사 수수료 0.015% (매수 매도 각각)\n",
    "# 거래세 0.3%\n",
    "# 총합 0.03% + 0.3%\n",
    "# 0.0033"
   ]
  },
  {
   "cell_type": "code",
   "execution_count": 19,
   "id": "e34a41f7",
   "metadata": {},
   "outputs": [],
   "source": [
    "# 증권사 수수료 1% (매수 매도 각각)\n",
    "# 거래세 3%\n",
    "# 총합 2% + 0.3%\n",
    "# 0.0033"
   ]
  },
  {
   "cell_type": "code",
   "execution_count": 20,
   "id": "5dd7c090",
   "metadata": {},
   "outputs": [],
   "source": [
    "# 100원에 샀다가 110원에 팔았을 때 수수료 감안 수익률\n",
    "# (110 - 100) /100 -> 10%\n",
    "# 110 * 1% = 1.1\n",
    "# 100 * 1% = 1\n",
    "# 100 * 3% = 3\n",
    "# 수수료 및 세금: 5.1%\n",
    "# 10% - 5.1%"
   ]
  },
  {
   "cell_type": "code",
   "execution_count": 21,
   "id": "2be94a2a",
   "metadata": {
    "scrolled": true
   },
   "outputs": [
    {
     "name": "stdout",
     "output_type": "stream",
     "text": [
      "--------------------\n",
      "2011\n",
      "0.012294947306335034\n",
      "0.022059449999999998\n",
      "--------------------\n",
      "2012\n",
      "0.009226441883531625\n",
      "0.017956841860465114\n",
      "--------------------\n",
      "2013\n",
      "0.008228913502885092\n",
      "0.01589693023255814\n",
      "--------------------\n",
      "2014\n",
      "0.014427619541022382\n",
      "0.01893536\n",
      "--------------------\n",
      "2015\n",
      "0.015823943508795606\n",
      "0.02468012727272727\n",
      "--------------------\n",
      "2016\n",
      "0.020669848318498944\n",
      "0.0244370625\n",
      "--------------------\n",
      "2017\n",
      "0.01936981438969782\n",
      "0.02330819999999999\n",
      "--------------------\n",
      "2018\n",
      "0.01350438786998099\n",
      "0.027294534782608685\n",
      "--------------------\n",
      "2019\n",
      "0.024394826053045313\n",
      "0.026112048979591823\n",
      "--------------------\n",
      "2020\n",
      "0.02324460739204792\n",
      "0.032977799999999995\n"
     ]
    }
   ],
   "source": [
    "bt_str_ret_list = []\n",
    "bt_real_div_list = []\n",
    "\n",
    "for i,year_ in zip(range(10),year) :\n",
    "    bt_str_ret, bt_real_div_ret = backtest(stg_ret, consen_div_year_list,div_ret, i, 50)\n",
    "    # 수수료 반영\n",
    "    bt_str_ret = bt_str_ret.map(lambda x : x - 0.0033)\n",
    "    bt_real_div_ret = bt_real_div_ret.map(lambda x : x - x * 0.154)\n",
    "    print('--------------------')\n",
    "    print(year_)\n",
    "    print(bt_str_ret.mean() * -1)\n",
    "    print(bt_real_div_ret.mean())\n",
    "    bt_str_ret_list.append(bt_str_ret.mean() * -1)\n",
    "    bt_real_div_list.append(bt_real_div_ret.mean())"
   ]
  },
  {
   "cell_type": "code",
   "execution_count": 23,
   "id": "bd4ba8de",
   "metadata": {},
   "outputs": [],
   "source": [
    "visual = pd.DataFrame()\n",
    "visual['거래수익률'] = bt_str_ret_list\n",
    "visual['실제배당수익률'] = bt_real_div_list\n",
    "visual['year'] = year\n",
    "visual = visual.set_index('year')"
   ]
  },
  {
   "cell_type": "code",
   "execution_count": 28,
   "id": "2e60d47b",
   "metadata": {},
   "outputs": [
    {
     "data": {
      "text/html": [
       "<div>\n",
       "<style scoped>\n",
       "    .dataframe tbody tr th:only-of-type {\n",
       "        vertical-align: middle;\n",
       "    }\n",
       "\n",
       "    .dataframe tbody tr th {\n",
       "        vertical-align: top;\n",
       "    }\n",
       "\n",
       "    .dataframe thead th {\n",
       "        text-align: right;\n",
       "    }\n",
       "</style>\n",
       "<table border=\"1\" class=\"dataframe\">\n",
       "  <thead>\n",
       "    <tr style=\"text-align: right;\">\n",
       "      <th></th>\n",
       "      <th>거래수익률</th>\n",
       "      <th>실제배당수익률</th>\n",
       "    </tr>\n",
       "    <tr>\n",
       "      <th>year</th>\n",
       "      <th></th>\n",
       "      <th></th>\n",
       "    </tr>\n",
       "  </thead>\n",
       "  <tbody>\n",
       "    <tr>\n",
       "      <th>2011</th>\n",
       "      <td>0.012295</td>\n",
       "      <td>0.022059</td>\n",
       "    </tr>\n",
       "    <tr>\n",
       "      <th>2012</th>\n",
       "      <td>0.009226</td>\n",
       "      <td>0.017957</td>\n",
       "    </tr>\n",
       "    <tr>\n",
       "      <th>2013</th>\n",
       "      <td>0.008229</td>\n",
       "      <td>0.015897</td>\n",
       "    </tr>\n",
       "    <tr>\n",
       "      <th>2014</th>\n",
       "      <td>0.014428</td>\n",
       "      <td>0.018935</td>\n",
       "    </tr>\n",
       "    <tr>\n",
       "      <th>2015</th>\n",
       "      <td>0.015824</td>\n",
       "      <td>0.024680</td>\n",
       "    </tr>\n",
       "    <tr>\n",
       "      <th>2016</th>\n",
       "      <td>0.020670</td>\n",
       "      <td>0.024437</td>\n",
       "    </tr>\n",
       "    <tr>\n",
       "      <th>2017</th>\n",
       "      <td>0.019370</td>\n",
       "      <td>0.023308</td>\n",
       "    </tr>\n",
       "    <tr>\n",
       "      <th>2018</th>\n",
       "      <td>0.013504</td>\n",
       "      <td>0.027295</td>\n",
       "    </tr>\n",
       "    <tr>\n",
       "      <th>2019</th>\n",
       "      <td>0.024395</td>\n",
       "      <td>0.026112</td>\n",
       "    </tr>\n",
       "    <tr>\n",
       "      <th>2020</th>\n",
       "      <td>0.023245</td>\n",
       "      <td>0.032978</td>\n",
       "    </tr>\n",
       "  </tbody>\n",
       "</table>\n",
       "</div>"
      ],
      "text/plain": [
       "         거래수익률   실제배당수익률\n",
       "year                    \n",
       "2011  0.012295  0.022059\n",
       "2012  0.009226  0.017957\n",
       "2013  0.008229  0.015897\n",
       "2014  0.014428  0.018935\n",
       "2015  0.015824  0.024680\n",
       "2016  0.020670  0.024437\n",
       "2017  0.019370  0.023308\n",
       "2018  0.013504  0.027295\n",
       "2019  0.024395  0.026112\n",
       "2020  0.023245  0.032978"
      ]
     },
     "execution_count": 28,
     "metadata": {},
     "output_type": "execute_result"
    }
   ],
   "source": [
    "visual"
   ]
  },
  {
   "cell_type": "code",
   "execution_count": 38,
   "id": "05a170c4",
   "metadata": {},
   "outputs": [
    {
     "data": {
      "text/plain": [
       "<AxesSubplot:xlabel='year'>"
      ]
     },
     "execution_count": 38,
     "metadata": {},
     "output_type": "execute_result"
    },
    {
     "data": {
      "image/png": "[encoded data removed]",
      "text/plain": [
       "<Figure size 432x288 with 1 Axes>"
      ]
     },
     "metadata": {
      "needs_background": "light"
     },
     "output_type": "display_data"
    }
   ],
   "source": [
    "visual.plot()"
   ]
  },
  {
   "cell_type": "code",
   "execution_count": 30,
   "id": "0ec8325c",
   "metadata": {},
   "outputs": [],
   "source": [
    "alpha = pd.DataFrame()\n",
    "alpha['Alpha'] = visual['실제배당수익률'] - visual['거래수익률']"
   ]
  },
  {
   "cell_type": "code",
   "execution_count": 32,
   "id": "bfc0b37b",
   "metadata": {},
   "outputs": [
    {
     "data": {
      "text/html": [
       "<div>\n",
       "<style scoped>\n",
       "    .dataframe tbody tr th:only-of-type {\n",
       "        vertical-align: middle;\n",
       "    }\n",
       "\n",
       "    .dataframe tbody tr th {\n",
       "        vertical-align: top;\n",
       "    }\n",
       "\n",
       "    .dataframe thead th {\n",
       "        text-align: right;\n",
       "    }\n",
       "</style>\n",
       "<table border=\"1\" class=\"dataframe\">\n",
       "  <thead>\n",
       "    <tr style=\"text-align: right;\">\n",
       "      <th></th>\n",
       "      <th>Alpha</th>\n",
       "    </tr>\n",
       "    <tr>\n",
       "      <th>year</th>\n",
       "      <th></th>\n",
       "    </tr>\n",
       "  </thead>\n",
       "  <tbody>\n",
       "    <tr>\n",
       "      <th>2011</th>\n",
       "      <td>0.009765</td>\n",
       "    </tr>\n",
       "    <tr>\n",
       "      <th>2012</th>\n",
       "      <td>0.008730</td>\n",
       "    </tr>\n",
       "    <tr>\n",
       "      <th>2013</th>\n",
       "      <td>0.007668</td>\n",
       "    </tr>\n",
       "    <tr>\n",
       "      <th>2014</th>\n",
       "      <td>0.004508</td>\n",
       "    </tr>\n",
       "    <tr>\n",
       "      <th>2015</th>\n",
       "      <td>0.008856</td>\n",
       "    </tr>\n",
       "    <tr>\n",
       "      <th>2016</th>\n",
       "      <td>0.003767</td>\n",
       "    </tr>\n",
       "    <tr>\n",
       "      <th>2017</th>\n",
       "      <td>0.003938</td>\n",
       "    </tr>\n",
       "    <tr>\n",
       "      <th>2018</th>\n",
       "      <td>0.013790</td>\n",
       "    </tr>\n",
       "    <tr>\n",
       "      <th>2019</th>\n",
       "      <td>0.001717</td>\n",
       "    </tr>\n",
       "    <tr>\n",
       "      <th>2020</th>\n",
       "      <td>0.009733</td>\n",
       "    </tr>\n",
       "  </tbody>\n",
       "</table>\n",
       "</div>"
      ],
      "text/plain": [
       "         Alpha\n",
       "year          \n",
       "2011  0.009765\n",
       "2012  0.008730\n",
       "2013  0.007668\n",
       "2014  0.004508\n",
       "2015  0.008856\n",
       "2016  0.003767\n",
       "2017  0.003938\n",
       "2018  0.013790\n",
       "2019  0.001717\n",
       "2020  0.009733"
      ]
     },
     "execution_count": 32,
     "metadata": {},
     "output_type": "execute_result"
    }
   ],
   "source": [
    "alpha"
   ]
  },
  {
   "cell_type": "code",
   "execution_count": 39,
   "id": "d8cf3148",
   "metadata": {},
   "outputs": [
    {
     "data": {
      "text/plain": [
       "<AxesSubplot:xlabel='year'>"
      ]
     },
     "execution_count": 39,
     "metadata": {},
     "output_type": "execute_result"
    },
    {
     "data": {
      "image/png": "[encoded data removed]",
      "text/plain": [
       "<Figure size 432x288 with 1 Axes>"
      ]
     },
     "metadata": {
      "needs_background": "light"
     },
     "output_type": "display_data"
    }
   ],
   "source": [
    "alpha.plot()"
   ]
  },
  {
   "cell_type": "code",
   "execution_count": null,
   "id": "af272c2c",
   "metadata": {},
   "outputs": [],
   "source": []
  },
  {
   "cell_type": "code",
   "execution_count": null,
   "id": "a0098217",
   "metadata": {},
   "outputs": [],
   "source": []
  },
  {
   "cell_type": "code",
   "execution_count": null,
   "id": "0aca6aa6",
   "metadata": {},
   "outputs": [],
   "source": []
  },
  {
   "cell_type": "code",
   "execution_count": null,
   "id": "59b80453",
   "metadata": {},
   "outputs": [],
   "source": []
  }
 ],
 "metadata": {
  "kernelspec": {
   "display_name": "Python 3",
   "language": "python",
   "name": "python3"
  },
  "language_info": {
   "codemirror_mode": {
    "name": "ipython",
    "version": 3
   },
   "file_extension": ".py",
   "mimetype": "text/x-python",
   "name": "python",
   "nbconvert_exporter": "python",
   "pygments_lexer": "ipython3",
   "version": "3.8.8"
  },
  "toc": {
   "base_numbering": 1,
   "nav_menu": {},
   "number_sections": true,
   "sideBar": true,
   "skip_h1_title": false,
   "title_cell": "Table of Contents",
   "title_sidebar": "Contents",
   "toc_cell": false,
   "toc_position": {},
   "toc_section_display": true,
   "toc_window_display": false
  }
 },
 "nbformat": 4,
 "nbformat_minor": 5
}
